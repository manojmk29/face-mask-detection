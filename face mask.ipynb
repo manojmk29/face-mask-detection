{
 "cells": [
  {
   "cell_type": "code",
   "execution_count": 36,
   "metadata": {
    "scrolled": true
   },
   "outputs": [
    {
     "name": "stdout",
     "output_type": "stream",
     "text": [
      "1.14.0\n"
     ]
    }
   ],
   "source": [
    "\n",
    "import tensorflow as tf\n",
    "import keras\n",
    "from tensorflow.keras.applications.mobilenet_v2 import preprocess_input\n",
    "from tensorflow.keras.preprocessing.image import img_to_array\n",
    "from tensorflow.keras.preprocessing.image import load_img\n",
    "import numpy as np\n",
    "import cv2\n",
    "import os\n",
    "import time\n",
    "\n"
   ]
  },
  {
   "cell_type": "code",
   "execution_count": 29,
   "metadata": {},
   "outputs": [
    {
     "name": "stdout",
     "output_type": "stream",
     "text": [
      "Found 1314 images belonging to 2 classes.\n",
      "Found 194 images belonging to 2 classes.\n",
      "Epoch 1/10\n",
      "83/83 [==============================] - 23s 282ms/step - loss: 0.3927 - accuracy: 0.8288 - val_loss: 1.0554 - val_accuracy: 0.9381\n",
      "Epoch 2/10\n",
      "83/83 [==============================] - 23s 283ms/step - loss: 0.1491 - accuracy: 0.9437 - val_loss: 0.0096 - val_accuracy: 0.9072\n",
      "Epoch 3/10\n",
      "83/83 [==============================] - 24s 284ms/step - loss: 0.1083 - accuracy: 0.9635 - val_loss: 0.0041 - val_accuracy: 0.9639\n",
      "Epoch 4/10\n",
      "83/83 [==============================] - 25s 299ms/step - loss: 0.0870 - accuracy: 0.9696 - val_loss: 1.3362e-04 - val_accuracy: 0.9588\n",
      "Epoch 5/10\n",
      "83/83 [==============================] - 25s 301ms/step - loss: 0.0805 - accuracy: 0.9734 - val_loss: 0.0172 - val_accuracy: 0.9897\n",
      "Epoch 6/10\n",
      "83/83 [==============================] - 24s 294ms/step - loss: 0.0666 - accuracy: 0.9764 - val_loss: 0.0019 - val_accuracy: 0.9742\n",
      "Epoch 7/10\n",
      "83/83 [==============================] - 24s 285ms/step - loss: 0.0616 - accuracy: 0.9772 - val_loss: 0.0034 - val_accuracy: 0.9845\n",
      "Epoch 8/10\n",
      "83/83 [==============================] - 25s 295ms/step - loss: 0.0825 - accuracy: 0.9688 - val_loss: 2.8047e-04 - val_accuracy: 0.9742\n",
      "Epoch 9/10\n",
      "83/83 [==============================] - 23s 271ms/step - loss: 0.0761 - accuracy: 0.9726 - val_loss: 0.0232 - val_accuracy: 0.9845\n",
      "Epoch 10/10\n",
      "83/83 [==============================] - 22s 270ms/step - loss: 0.0640 - accuracy: 0.9772 - val_loss: 0.0406 - val_accuracy: 0.9691\n"
     ]
    }
   ],
   "source": [
    "\n",
    "\n",
    "\n",
    "# BUILDING MODEL TO CLASSIFY BETWEEN MASK AND NO MASK\n",
    "\n",
    "model=Sequential()\n",
    "model.add(Conv2D(32,(3,3),activation='relu',input_shape=(150,150,3)))\n",
    "model.add(MaxPooling2D() )\n",
    "model.add(Conv2D(32,(3,3),activation='relu'))\n",
    "model.add(MaxPooling2D() )\n",
    "model.add(Conv2D(32,(3,3),activation='relu'))\n",
    "model.add(MaxPooling2D() )\n",
    "model.add(Flatten())\n",
    "model.add(Dense(100,activation='relu'))\n",
    "model.add(Dense(1,activation='sigmoid'))\n",
    "model.compile(optimizer='adam',loss='binary_crossentropy',metrics=['accuracy'])\n",
    "from keras.preprocessing.image import ImageDataGenerator\n",
    "train_datagen = ImageDataGenerator(\n",
    "        rescale=1./255,\n",
    "        shear_range=0.2,\n",
    "        zoom_range=0.2,\n",
    "        horizontal_flip=True)\n",
    "test_datagen = ImageDataGenerator(rescale=1./255)\n",
    "training_set = train_datagen.flow_from_directory(\n",
    "        'C:\\\\Users\\\\adith\\\\Desktop\\\\FaceMaskDetector-master\\\\train',\n",
    "        target_size=(150,150),\n",
    "        batch_size=16 ,\n",
    "        class_mode='binary')\n",
    "test_set = test_datagen.flow_from_directory(\n",
    "        'C:\\\\Users\\\\adith\\Desktop\\\\FaceMaskDetector-master\\\\test',\n",
    "        target_size=(150,150),\n",
    "        batch_size=16,\n",
    "        class_mode='binary')\n",
    "model_saved=model.fit_generator(\n",
    "        training_set,\n",
    "        epochs=10,\n",
    "        validation_data=test_set,\n",
    "        )\n",
    "model.save('mymodel.h5',model_saved)\n"
   ]
  },
  {
   "cell_type": "code",
   "execution_count": 57,
   "metadata": {},
   "outputs": [],
   "source": [
    "mymodel=load_model('mymodel.h5')\n",
    "\n",
    "cap=cv2.VideoCapture(0)\n",
    "face_cascade=cv2.CascadeClassifier('C:\\\\Users\\\\adith\\\\Anaconda3\\\\Library\\\\etc\\\\haarcascades\\\\haarcascade_frontalface_default.xml')\n",
    "\n",
    "# FOR REAL TIME DETECTION\n",
    "\n",
    "while cap.isOpened():\n",
    "    _,img=cap.read()\n",
    "    face=face_cascade.detectMultiScale(img,scaleFactor=1.1,minNeighbors=4)\n",
    "    for(x,y,w,h) in face:\n",
    "        face_img = img[y:y+h, x:x+w]\n",
    "        cv2.imwrite('temp.jpg',face_img)\n",
    "        test_image=image.load_img('temp.jpg',target_size=(150,150,3))\n",
    "        test_image=image.img_to_array(test_image)\n",
    "        test_image=np.expand_dims(test_image,axis=0)\n",
    "        pred=mymodel.predict_classes(test_image)[0][0]\n",
    "        if pred==1:\n",
    "            cv2.rectangle(img,(x,y),(x+w,y+h),(0,0,255),3)\n",
    "            cv2.putText(img,'NO MASK',((x+w)//2,y+h+20),cv2.FONT_HERSHEY_SIMPLEX,1,(0,0,255),3)\n",
    "        else:\n",
    "            cv2.rectangle(img,(x,y),(x+w,y+h),(0,255,0),3)\n",
    "            cv2.putText(img,'MASK',((x+w)//2,y+h+20),cv2.FONT_HERSHEY_SIMPLEX,1,(0,255,0),3)\n",
    "        datet=str(datetime.datetime.now())\n",
    "        cv2.putText(img,datet,(400,450),cv2.FONT_HERSHEY_SIMPLEX,0.5,(255,255,255),1)\n",
    "          \n",
    "    cv2.imshow('img',img)\n",
    "    \n",
    "    if cv2.waitKey(1)==ord('q'):\n",
    "        break\n",
    "    \n",
    "cap.release()\n",
    "cv2.destroyAllWindows()\n"
   ]
  }
 ],
 "metadata": {
  "kernelspec": {
   "display_name": "Python 3",
   "language": "python",
   "name": "python3"
  },
  "language_info": {
   "codemirror_mode": {
    "name": "ipython",
    "version": 3
   },
   "file_extension": ".py",
   "mimetype": "text/x-python",
   "name": "python",
   "nbconvert_exporter": "python",
   "pygments_lexer": "ipython3",
   "version": "3.8.5"
  }
 },
 "nbformat": 4,
 "nbformat_minor": 4
}
