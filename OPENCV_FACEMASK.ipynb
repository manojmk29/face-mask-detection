{
 "cells": [
  {
   "cell_type": "code",
   "execution_count": 1,
   "metadata": {
    "colab": {
     "base_uri": "https://localhost:8080/"
    },
    "id": "maEW_KFvHWhj",
    "outputId": "2b1c9b27-e321-4e8a-e8a2-c69f84331a74"
   },
   "outputs": [
    {
     "name": "stdout",
     "output_type": "stream",
     "text": [
      "Collecting keras-tuner\n",
      "\u001b[?25l  Downloading https://files.pythonhosted.org/packages/20/ec/1ef246787174b1e2bb591c95f29d3c1310070cad877824f907faba3dade9/keras-tuner-1.0.2.tar.gz (62kB)\n",
      "\u001b[K     |████████████████████████████████| 71kB 2.5MB/s \n",
      "\u001b[?25hRequirement already satisfied: packaging in /usr/local/lib/python3.7/dist-packages (from keras-tuner) (20.9)\n",
      "Requirement already satisfied: future in /usr/local/lib/python3.7/dist-packages (from keras-tuner) (0.16.0)\n",
      "Requirement already satisfied: numpy in /usr/local/lib/python3.7/dist-packages (from keras-tuner) (1.19.5)\n",
      "Requirement already satisfied: tabulate in /usr/local/lib/python3.7/dist-packages (from keras-tuner) (0.8.9)\n",
      "Collecting terminaltables\n",
      "  Downloading https://files.pythonhosted.org/packages/9b/c4/4a21174f32f8a7e1104798c445dacdc1d4df86f2f26722767034e4de4bff/terminaltables-3.1.0.tar.gz\n",
      "Collecting colorama\n",
      "  Downloading https://files.pythonhosted.org/packages/44/98/5b86278fbbf250d239ae0ecb724f8572af1c91f4a11edf4d36a206189440/colorama-0.4.4-py2.py3-none-any.whl\n",
      "Requirement already satisfied: tqdm in /usr/local/lib/python3.7/dist-packages (from keras-tuner) (4.41.1)\n",
      "Requirement already satisfied: requests in /usr/local/lib/python3.7/dist-packages (from keras-tuner) (2.23.0)\n",
      "Requirement already satisfied: scipy in /usr/local/lib/python3.7/dist-packages (from keras-tuner) (1.4.1)\n",
      "Requirement already satisfied: scikit-learn in /usr/local/lib/python3.7/dist-packages (from keras-tuner) (0.22.2.post1)\n",
      "Requirement already satisfied: pyparsing>=2.0.2 in /usr/local/lib/python3.7/dist-packages (from packaging->keras-tuner) (2.4.7)\n",
      "Requirement already satisfied: urllib3!=1.25.0,!=1.25.1,<1.26,>=1.21.1 in /usr/local/lib/python3.7/dist-packages (from requests->keras-tuner) (1.24.3)\n",
      "Requirement already satisfied: certifi>=2017.4.17 in /usr/local/lib/python3.7/dist-packages (from requests->keras-tuner) (2020.12.5)\n",
      "Requirement already satisfied: chardet<4,>=3.0.2 in /usr/local/lib/python3.7/dist-packages (from requests->keras-tuner) (3.0.4)\n",
      "Requirement already satisfied: idna<3,>=2.5 in /usr/local/lib/python3.7/dist-packages (from requests->keras-tuner) (2.10)\n",
      "Requirement already satisfied: joblib>=0.11 in /usr/local/lib/python3.7/dist-packages (from scikit-learn->keras-tuner) (1.0.1)\n",
      "Building wheels for collected packages: keras-tuner, terminaltables\n",
      "  Building wheel for keras-tuner (setup.py) ... \u001b[?25l\u001b[?25hdone\n",
      "  Created wheel for keras-tuner: filename=keras_tuner-1.0.2-cp37-none-any.whl size=78938 sha256=29c02271b8acb6e2c4234f1a99ae91895c92c2e291ce9de465a2cfc14c1a8919\n",
      "  Stored in directory: /root/.cache/pip/wheels/bb/a1/8a/7c3de0efb3707a1701b36ebbfdbc4e67aedf6d4943a1f463d6\n",
      "  Building wheel for terminaltables (setup.py) ... \u001b[?25l\u001b[?25hdone\n",
      "  Created wheel for terminaltables: filename=terminaltables-3.1.0-cp37-none-any.whl size=15356 sha256=646e350870e452aabf5d004fc3aac632ea236766a801cf9db18c762dc460bd8b\n",
      "  Stored in directory: /root/.cache/pip/wheels/30/6b/50/6c75775b681fb36cdfac7f19799888ef9d8813aff9e379663e\n",
      "Successfully built keras-tuner terminaltables\n",
      "Installing collected packages: terminaltables, colorama, keras-tuner\n",
      "Successfully installed colorama-0.4.4 keras-tuner-1.0.2 terminaltables-3.1.0\n"
     ]
    }
   ],
   "source": [
    "!pip install keras-tuner"
   ]
  },
  {
   "cell_type": "code",
   "execution_count": 2,
   "metadata": {
    "colab": {
     "base_uri": "https://localhost:8080/"
    },
    "id": "H1xJ9QIiHcta",
    "outputId": "dacc8416-514e-4f53-adbe-cdebd5125c2e"
   },
   "outputs": [
    {
     "name": "stdout",
     "output_type": "stream",
     "text": [
      "Mounted at /content/drive\n"
     ]
    }
   ],
   "source": [
    "from google.colab import drive\n",
    "drive.mount(\"/content/drive\")"
   ]
  },
  {
   "cell_type": "code",
   "execution_count": 3,
   "metadata": {
    "id": "LWsuyjn_HhGo"
   },
   "outputs": [],
   "source": [
    "import tensorflow as tf\n",
    "import keras\n",
    "from keras import models   \n",
    "from keras.models import Sequential\n",
    "from tensorflow.keras.layers import Conv2D\n",
    "from tensorflow.keras.layers import MaxPooling2D\n",
    "from tensorflow.keras.layers import Flatten\n",
    "from tensorflow.keras.layers import Dense\n",
    "from tensorflow.keras.models import load_model\n",
    "from tensorflow.keras.preprocessing.image import ImageDataGenerator\n",
    "from tensorflow.keras.models import Model\n",
    "from tensorflow.keras.layers import Input, Flatten, Dense\n",
    "from tensorflow.keras.callbacks import Callback, ModelCheckpoint\n",
    "from tensorflow.keras.applications.vgg16 import VGG16\n",
    "from tensorflow.keras.preprocessing import image\n",
    "from tensorflow.keras.applications.vgg16 import preprocess_input\n",
    "from tensorflow.keras.layers import Dropout,BatchNormalization\n",
    "from tensorflow.keras.applications.mobilenet_v2 import preprocess_input\n",
    "from tensorflow.keras.preprocessing.image import img_to_array\n",
    "from tensorflow.keras.preprocessing.image import load_img\n",
    "from keras.preprocessing import image\n",
    "from kerastuner.tuners import RandomSearch\n",
    "from kerastuner import HyperModel\n",
    "import matplotlib.pyplot as plt\n",
    "import datetime\n",
    "import numpy as np\n",
    "import cv2\n",
    "import os\n",
    "import time\n",
    "import timeit"
   ]
  },
  {
   "cell_type": "code",
   "execution_count": 4,
   "metadata": {
    "id": "fFqDiPHNH0O2"
   },
   "outputs": [],
   "source": [
    "from keras.preprocessing.image import ImageDataGenerator\n",
    "train_datagen = ImageDataGenerator(\n",
    "        rescale=1./255,\n",
    "        shear_range=0.2,\n",
    "        width_shift_range=0.2,\n",
    "        zoom_range=0.2,\n",
    "        horizontal_flip=True,\n",
    "        brightness_range=[0.2,1.2],\n",
    "        fill_mode='constant',cval=255)\n",
    "test_datagen = ImageDataGenerator(rescale=1./255)"
   ]
  },
  {
   "cell_type": "code",
   "execution_count": 5,
   "metadata": {
    "colab": {
     "base_uri": "https://localhost:8080/"
    },
    "id": "ZKI4rx3cH277",
    "outputId": "5179c2bd-bb24-4dfd-fe40-a05e26693964"
   },
   "outputs": [
    {
     "name": "stdout",
     "output_type": "stream",
     "text": [
      "Found 1314 images belonging to 2 classes.\n",
      "Found 194 images belonging to 2 classes.\n"
     ]
    }
   ],
   "source": [
    "training_set = train_datagen.flow_from_directory(\n",
    "        '/content/drive/MyDrive/train',\n",
    "        target_size=(150,150),\n",
    "        batch_size=32,\n",
    "        class_mode='binary')\n",
    "test_set = test_datagen.flow_from_directory(\n",
    "        '/content/drive/MyDrive/test',\n",
    "        target_size=(150,150),\n",
    "        batch_size=32,\n",
    "        class_mode='binary')"
   ]
  },
  {
   "cell_type": "code",
   "execution_count": 6,
   "metadata": {
    "id": "T0cg0NQ4H4xr"
   },
   "outputs": [],
   "source": [
    "X_train,Y_train = training_set.next()\n",
    "X_test,Y_test = test_set.next()"
   ]
  },
  {
   "cell_type": "code",
   "execution_count": 7,
   "metadata": {
    "colab": {
     "base_uri": "https://localhost:8080/"
    },
    "id": "DJxrfipZH6zm",
    "outputId": "a43a462b-f801-4051-b385-fc4f67ecd9be"
   },
   "outputs": [
    {
     "data": {
      "text/plain": [
       "(32, 150, 150, 3)"
      ]
     },
     "execution_count": 7,
     "metadata": {
      "tags": []
     },
     "output_type": "execute_result"
    }
   ],
   "source": [
    "X_train.shape"
   ]
  },
  {
   "cell_type": "code",
   "execution_count": 33,
   "metadata": {
    "id": "Vi1YW08tH--u"
   },
   "outputs": [],
   "source": [
    "# BUILDING MODEL TO CLASSIFY BETWEEN MASK AND NO MASK\n",
    "model=Sequential()\n",
    "model.add(Conv2D(16,(3,3),activation='relu',padding='same',input_shape=(150,150,3)))\n",
    "model.add(BatchNormalization())\n",
    "model.add(MaxPooling2D(pool_size=(2, 2)) )\n",
    "model.add(Conv2D(32,(3,3),activation='relu',padding='same'))\n",
    "model.add(BatchNormalization())\n",
    "model.add(MaxPooling2D(pool_size=(2, 2)) )\n",
    "model.add(Conv2D(32,(3,3),activation='relu',padding='same'))\n",
    "model.add(MaxPooling2D(pool_size=(2, 2)) )\n",
    "model.add(Flatten())\n",
    "model.add(Dense(128,activation='relu',kernel_initializer=tf.keras.initializers.HeUniform()))\n",
    "model.add(Dropout(0.5))\n",
    "model.add(Dense(128,activation='relu',kernel_initializer=tf.keras.initializers.HeUniform()))\n",
    "model.add(Dropout(0.25))\n",
    "model.add(Dense(1,activation='sigmoid'))\n",
    "\n",
    "\n",
    "\n"
   ]
  },
  {
   "cell_type": "code",
   "execution_count": 35,
   "metadata": {
    "colab": {
     "base_uri": "https://localhost:8080/"
    },
    "id": "MIHx_A1zIAf3",
    "outputId": "f6fb0131-2f13-403c-abb6-9f8e0bc138dd"
   },
   "outputs": [
    {
     "name": "stdout",
     "output_type": "stream",
     "text": [
      "Model: \"sequential_1\"\n",
      "_________________________________________________________________\n",
      "Layer (type)                 Output Shape              Param #   \n",
      "=================================================================\n",
      "conv2d_3 (Conv2D)            (None, 150, 150, 16)      448       \n",
      "_________________________________________________________________\n",
      "batch_normalization_2 (Batch (None, 150, 150, 16)      64        \n",
      "_________________________________________________________________\n",
      "max_pooling2d_3 (MaxPooling2 (None, 75, 75, 16)        0         \n",
      "_________________________________________________________________\n",
      "conv2d_4 (Conv2D)            (None, 75, 75, 32)        4640      \n",
      "_________________________________________________________________\n",
      "batch_normalization_3 (Batch (None, 75, 75, 32)        128       \n",
      "_________________________________________________________________\n",
      "max_pooling2d_4 (MaxPooling2 (None, 37, 37, 32)        0         \n",
      "_________________________________________________________________\n",
      "conv2d_5 (Conv2D)            (None, 37, 37, 32)        9248      \n",
      "_________________________________________________________________\n",
      "max_pooling2d_5 (MaxPooling2 (None, 18, 18, 32)        0         \n",
      "_________________________________________________________________\n",
      "flatten_1 (Flatten)          (None, 10368)             0         \n",
      "_________________________________________________________________\n",
      "dense_3 (Dense)              (None, 128)               1327232   \n",
      "_________________________________________________________________\n",
      "dropout_2 (Dropout)          (None, 128)               0         \n",
      "_________________________________________________________________\n",
      "dense_4 (Dense)              (None, 128)               16512     \n",
      "_________________________________________________________________\n",
      "dropout_3 (Dropout)          (None, 128)               0         \n",
      "_________________________________________________________________\n",
      "dense_5 (Dense)              (None, 1)                 129       \n",
      "=================================================================\n",
      "Total params: 1,358,401\n",
      "Trainable params: 1,358,305\n",
      "Non-trainable params: 96\n",
      "_________________________________________________________________\n"
     ]
    }
   ],
   "source": [
    "model.summary()"
   ]
  },
  {
   "cell_type": "code",
   "execution_count": 11,
   "metadata": {
    "id": "tk2FYccEIKd8"
   },
   "outputs": [],
   "source": [
    "model.compile(\n",
    "    optimizer='adam',\n",
    "    loss='binary_crossentropy',\n",
    "    metrics=['accuracy'])"
   ]
  },
  {
   "cell_type": "code",
   "execution_count": 12,
   "metadata": {
    "colab": {
     "base_uri": "https://localhost:8080/"
    },
    "id": "eyqlwwVJIMPh",
    "outputId": "1e07f489-77fd-476d-c2fa-4c1cd2b222ab"
   },
   "outputs": [
    {
     "name": "stdout",
     "output_type": "stream",
     "text": [
      "Epoch 1/20\n",
      "42/42 [==============================] - 311s 7s/step - loss: 1.4803 - accuracy: 0.6222 - val_loss: 0.5580 - val_accuracy: 0.9330\n",
      "Epoch 2/20\n",
      "42/42 [==============================] - 47s 1s/step - loss: 0.3513 - accuracy: 0.8564 - val_loss: 0.4396 - val_accuracy: 0.8196\n",
      "Epoch 3/20\n",
      "42/42 [==============================] - 47s 1s/step - loss: 0.2556 - accuracy: 0.9111 - val_loss: 0.3095 - val_accuracy: 0.9278\n",
      "Epoch 4/20\n",
      "42/42 [==============================] - 47s 1s/step - loss: 0.2101 - accuracy: 0.9239 - val_loss: 0.3543 - val_accuracy: 0.8247\n",
      "Epoch 5/20\n",
      "42/42 [==============================] - 47s 1s/step - loss: 0.1946 - accuracy: 0.9201 - val_loss: 0.3579 - val_accuracy: 0.8093\n",
      "Epoch 6/20\n",
      "42/42 [==============================] - 47s 1s/step - loss: 0.2012 - accuracy: 0.9110 - val_loss: 1.0145 - val_accuracy: 0.5103\n",
      "Epoch 7/20\n",
      "42/42 [==============================] - 47s 1s/step - loss: 0.4251 - accuracy: 0.8714 - val_loss: 0.2082 - val_accuracy: 0.8969\n",
      "Epoch 8/20\n",
      "42/42 [==============================] - 47s 1s/step - loss: 0.2095 - accuracy: 0.9117 - val_loss: 0.0903 - val_accuracy: 0.9588\n",
      "Epoch 9/20\n",
      "42/42 [==============================] - 47s 1s/step - loss: 0.1953 - accuracy: 0.9368 - val_loss: 0.0825 - val_accuracy: 0.9794\n",
      "Epoch 10/20\n",
      "42/42 [==============================] - 47s 1s/step - loss: 0.1916 - accuracy: 0.9244 - val_loss: 0.5115 - val_accuracy: 0.7990\n",
      "Epoch 11/20\n",
      "42/42 [==============================] - 47s 1s/step - loss: 0.2034 - accuracy: 0.9059 - val_loss: 0.1074 - val_accuracy: 0.9691\n",
      "Epoch 12/20\n",
      "42/42 [==============================] - 47s 1s/step - loss: 0.1896 - accuracy: 0.9313 - val_loss: 0.0882 - val_accuracy: 0.9588\n",
      "Epoch 13/20\n",
      "42/42 [==============================] - 48s 1s/step - loss: 0.1708 - accuracy: 0.9459 - val_loss: 0.0655 - val_accuracy: 0.9691\n",
      "Epoch 14/20\n",
      "42/42 [==============================] - 47s 1s/step - loss: 0.1538 - accuracy: 0.9499 - val_loss: 0.0568 - val_accuracy: 0.9639\n",
      "Epoch 15/20\n",
      "42/42 [==============================] - 47s 1s/step - loss: 0.1620 - accuracy: 0.9342 - val_loss: 0.0463 - val_accuracy: 0.9794\n",
      "Epoch 16/20\n",
      "42/42 [==============================] - 47s 1s/step - loss: 0.1994 - accuracy: 0.9160 - val_loss: 0.5009 - val_accuracy: 0.7577\n",
      "Epoch 17/20\n",
      "42/42 [==============================] - 47s 1s/step - loss: 0.3431 - accuracy: 0.8595 - val_loss: 0.3875 - val_accuracy: 0.7938\n",
      "Epoch 18/20\n",
      "42/42 [==============================] - 47s 1s/step - loss: 0.3378 - accuracy: 0.8832 - val_loss: 0.1986 - val_accuracy: 0.9381\n",
      "Epoch 19/20\n",
      "42/42 [==============================] - 47s 1s/step - loss: 0.2695 - accuracy: 0.9052 - val_loss: 0.1020 - val_accuracy: 0.9588\n",
      "Epoch 20/20\n",
      "42/42 [==============================] - 47s 1s/step - loss: 0.2276 - accuracy: 0.9353 - val_loss: 0.0699 - val_accuracy: 0.9742\n",
      "Time Taken to run the model: 1205.2327161879998 seconds\n"
     ]
    }
   ],
   "source": [
    "start = timeit.default_timer()\n",
    "batch_no=32\n",
    "model_saved=model.fit(\n",
    "        training_set,\n",
    "        batch_size=batch_no,\n",
    "        epochs=20,\n",
    "        verbose=1,\n",
    "        validation_data=test_set,\n",
    "        )\n",
    "end = timeit.default_timer()\n",
    "print(\"Time Taken to run the model:\",end - start, \"seconds\")\n",
    "model.save('mymodel.h5',model_saved)\n"
   ]
  },
  {
   "cell_type": "code",
   "execution_count": 13,
   "metadata": {
    "id": "wjbPSYiHIVz7"
   },
   "outputs": [],
   "source": [
    "\n",
    "class CNNHyperModel(HyperModel):\n",
    "\n",
    "    def __init__(self):\n",
    "        self.input_shape = (150, 150, 3)\n",
    "        self.num_classes = 2\n",
    "\n",
    "    def build(self, hp):\n",
    "\n",
    "        model_ht = keras.Sequential()\n",
    "\n",
    "        \n",
    "        model_ht.add(\n",
    "            Conv2D(\n",
    "                filters=hp.Choice(\n",
    "                    'num_filters',\n",
    "                    values=[16, 32],\n",
    "                    default=32,\n",
    "                ),\n",
    "                activation='relu',\n",
    "                padding='same',\n",
    "                kernel_size=3\n",
    "            )\n",
    "        )\n",
    "\n",
    "        model_ht.add(BatchNormalization())\n",
    "\n",
    "        model_ht.add(MaxPooling2D(pool_size=2))\n",
    "\n",
    "        \n",
    "        model_ht.add(\n",
    "            Conv2D(\n",
    "                filters=hp.Choice(\n",
    "                    'num_filters',\n",
    "                    values=[16, 32],\n",
    "                    default=32,\n",
    "                ),\n",
    "                activation='relu',\n",
    "                padding='same',\n",
    "                kernel_size=3\n",
    "            )\n",
    "        )\n",
    "        model_ht.add(BatchNormalization())\n",
    "\n",
    "        model_ht.add(MaxPooling2D(pool_size=2))\n",
    "  \n",
    "        \n",
    "\n",
    "        model_ht.add(\n",
    "            Conv2D(\n",
    "                filters=hp.Choice(\n",
    "                    'num_filters',\n",
    "                    values=[64, 32],\n",
    "                    default=64,\n",
    "                ),\n",
    "                activation='relu',\n",
    "                padding='same',\n",
    "                kernel_size=3\n",
    "            )\n",
    "        )\n",
    "\n",
    "        model_ht.add(MaxPooling2D(pool_size=2))\n",
    "\n",
    "        model_ht.add(Flatten())\n",
    "\n",
    "        model_ht.add(\n",
    "            Dense(\n",
    "                units=hp.Int(\n",
    "                    'units',\n",
    "                    min_value=32,\n",
    "                    max_value=128,\n",
    "                    step=32,\n",
    "                    default=128\n",
    "                ),\n",
    "                activation='relu',\n",
    "                kernel_initializer=tf.keras.initializers.HeUniform()\n",
    "            )\n",
    "        )\n",
    "\n",
    "        \n",
    "        model_ht.add(\n",
    "            Dropout(\n",
    "                rate=hp.Float(\n",
    "                    'dropout_1',\n",
    "                    min_value=0.0,\n",
    "                    max_value=0.5,\n",
    "                    default=0.25,\n",
    "                    step=0.05\n",
    "                )\n",
    "            )\n",
    "        )\n",
    "        model_ht.add(\n",
    "            Dense(\n",
    "                units=hp.Int(\n",
    "                    'units',\n",
    "                    min_value=32,\n",
    "                    max_value=128,\n",
    "                    step=32,\n",
    "                    default=128\n",
    "                ),\n",
    "                activation='relu',\n",
    "                kernel_initializer=tf.keras.initializers.HeUniform()\n",
    "            )\n",
    "        )\n",
    "\n",
    "        \n",
    "        model_ht.add(\n",
    "            Dropout(\n",
    "                rate=hp.Float(\n",
    "                    'dropout_1',\n",
    "                    min_value=0.0,\n",
    "                    max_value=0.5,\n",
    "                    default=0.25,\n",
    "                    step=0.05\n",
    "                )\n",
    "            )\n",
    "        )\n",
    "\n",
    "        model_ht.add(Dense(1, activation='sigmoid'))\n",
    "\n",
    "        model_ht.compile(\n",
    "            optimizer=keras.optimizers.Adam(\n",
    "                hp.Float(\n",
    "                    'learning_rate',\n",
    "                    min_value=1e-4,\n",
    "                    max_value=1e-2,\n",
    "                    sampling='LOG',\n",
    "                    default=1e-3\n",
    "                )\n",
    "            ),\n",
    "            loss='binary_crossentropy',\n",
    "            metrics=['accuracy']\n",
    "        )\n",
    "        return model_ht\n",
    "\n",
    "hypermodel = CNNHyperModel()\n"
   ]
  },
  {
   "cell_type": "code",
   "execution_count": 14,
   "metadata": {
    "id": "vlTC8tB9IYL5"
   },
   "outputs": [],
   "source": [
    "from kerastuner.tuners import RandomSearch\n",
    "tuner = RandomSearch(\n",
    "    hypermodel,\n",
    "    objective='val_accuracy',\n",
    "    max_trials=10,\n",
    "    executions_per_trial=2,\n",
    "    project_name='face-mask'\n",
    ")"
   ]
  },
  {
   "cell_type": "code",
   "execution_count": 15,
   "metadata": {
    "colab": {
     "base_uri": "https://localhost:8080/"
    },
    "id": "psr7Q2T2Ibez",
    "outputId": "9c5bb0f8-c7c9-4f6b-ec4b-d26276739619"
   },
   "outputs": [
    {
     "name": "stdout",
     "output_type": "stream",
     "text": [
      "Search space summary\n",
      "Default search space size: 4\n",
      "num_filters (Choice)\n",
      "{'default': 32, 'conditions': [], 'values': [16, 32], 'ordered': True}\n",
      "units (Int)\n",
      "{'default': 128, 'conditions': [], 'min_value': 32, 'max_value': 128, 'step': 32, 'sampling': None}\n",
      "dropout_1 (Float)\n",
      "{'default': 0.25, 'conditions': [], 'min_value': 0.0, 'max_value': 0.5, 'step': 0.05, 'sampling': None}\n",
      "learning_rate (Float)\n",
      "{'default': 0.001, 'conditions': [], 'min_value': 0.0001, 'max_value': 0.01, 'step': None, 'sampling': 'log'}\n"
     ]
    }
   ],
   "source": [
    "tuner.search_space_summary()"
   ]
  },
  {
   "cell_type": "code",
   "execution_count": 17,
   "metadata": {
    "colab": {
     "base_uri": "https://localhost:8080/"
    },
    "id": "SPXcwkLtIfXi",
    "outputId": "df14fb11-7e73-4217-a4ca-aabc48d6e98a"
   },
   "outputs": [
    {
     "name": "stdout",
     "output_type": "stream",
     "text": [
      "Trial 10 Complete [00h 07m 39s]\n",
      "val_accuracy: 0.9458763003349304\n",
      "\n",
      "Best val_accuracy So Far: 0.9458763003349304\n",
      "Total elapsed time: 00h 51m 05s\n",
      "INFO:tensorflow:Oracle triggered exit\n"
     ]
    }
   ],
   "source": [
    "tuner.search(X_train, Y_train, epochs=5, validation_data=(X_test, Y_test),batch_size = 32)"
   ]
  },
  {
   "cell_type": "code",
   "execution_count": 42,
   "metadata": {
    "colab": {
     "base_uri": "https://localhost:8080/"
    },
    "id": "M8sOlb9HIhL2",
    "outputId": "b2f0b47c-3be5-4871-ecca-604d1cfcd472"
   },
   "outputs": [
    {
     "name": "stdout",
     "output_type": "stream",
     "text": [
      "Results summary\n",
      "Results in ./face-mask\n",
      "Showing 10 best trials\n",
      "Objective(name='val_accuracy', direction='max')\n",
      "Trial summary\n",
      "Hyperparameters:\n",
      "num_filters: 32\n",
      "units: 64\n",
      "dropout_1: 0.1\n",
      "learning_rate: 0.007446200469868547\n",
      "Score: 0.9458763003349304\n",
      "Trial summary\n",
      "Hyperparameters:\n",
      "num_filters: 16\n",
      "units: 96\n",
      "dropout_1: 0.35000000000000003\n",
      "learning_rate: 0.0028102636841753114\n",
      "Score: 0.9407216608524323\n",
      "Trial summary\n",
      "Hyperparameters:\n",
      "num_filters: 32\n",
      "units: 96\n",
      "dropout_1: 0.30000000000000004\n",
      "learning_rate: 0.0012440718000666692\n",
      "Score: 0.938144326210022\n",
      "Trial summary\n",
      "Hyperparameters:\n",
      "num_filters: 16\n",
      "units: 96\n",
      "dropout_1: 0.4\n",
      "learning_rate: 0.0009460923621506966\n",
      "Score: 0.9175257980823517\n",
      "Trial summary\n",
      "Hyperparameters:\n",
      "num_filters: 16\n",
      "units: 64\n",
      "dropout_1: 0.05\n",
      "learning_rate: 0.0064523261336763725\n",
      "Score: 0.9149484634399414\n",
      "Trial summary\n",
      "Hyperparameters:\n",
      "num_filters: 16\n",
      "units: 96\n",
      "dropout_1: 0.35000000000000003\n",
      "learning_rate: 0.00048690017276281297\n",
      "Score: 0.9123711585998535\n",
      "Trial summary\n",
      "Hyperparameters:\n",
      "num_filters: 16\n",
      "units: 64\n",
      "dropout_1: 0.25\n",
      "learning_rate: 0.0004669925536911264\n",
      "Score: 0.9046391844749451\n",
      "Trial summary\n",
      "Hyperparameters:\n",
      "num_filters: 16\n",
      "units: 96\n",
      "dropout_1: 0.1\n",
      "learning_rate: 0.001413751920126406\n",
      "Score: 0.8994845449924469\n",
      "Trial summary\n",
      "Hyperparameters:\n",
      "num_filters: 16\n",
      "units: 96\n",
      "dropout_1: 0.35000000000000003\n",
      "learning_rate: 0.0002699995872739864\n",
      "Score: 0.8840206265449524\n",
      "Trial summary\n",
      "Hyperparameters:\n",
      "num_filters: 16\n",
      "units: 96\n",
      "dropout_1: 0.30000000000000004\n",
      "learning_rate: 0.00010527206554759681\n",
      "Score: 0.8659793734550476\n",
      "7/7 [==============================] - 2s 229ms/step - loss: 0.1528 - accuracy: 0.9557\n"
     ]
    }
   ],
   "source": [
    "tuner.results_summary()\n",
    "\n",
    "# Retrieve the best model.\n",
    "best_model = tuner.get_best_models(num_models=1)[0]\n",
    "tf.train.Checkpoint.restore\n",
    "loss, accuracy = best_model.evaluate(X_test, Y_test)\n",
    "model.save('hyper_model2.h5',best_model)"
   ]
  },
  {
   "cell_type": "code",
   "execution_count": 40,
   "metadata": {
    "colab": {
     "base_uri": "https://localhost:8080/"
    },
    "id": "7ZAWfAxFImac",
    "outputId": "31d04280-99d7-448f-f848-6eef2c8df59a"
   },
   "outputs": [
    {
     "name": "stdout",
     "output_type": "stream",
     "text": [
      "Model: \"sequential_1\"\n",
      "_________________________________________________________________\n",
      "Layer (type)                 Output Shape              Param #   \n",
      "=================================================================\n",
      "conv2d_3 (Conv2D)            (None, 150, 150, 16)      448       \n",
      "_________________________________________________________________\n",
      "batch_normalization_2 (Batch (None, 150, 150, 16)      64        \n",
      "_________________________________________________________________\n",
      "max_pooling2d_3 (MaxPooling2 (None, 75, 75, 16)        0         \n",
      "_________________________________________________________________\n",
      "conv2d_4 (Conv2D)            (None, 75, 75, 32)        4640      \n",
      "_________________________________________________________________\n",
      "batch_normalization_3 (Batch (None, 75, 75, 32)        128       \n",
      "_________________________________________________________________\n",
      "max_pooling2d_4 (MaxPooling2 (None, 37, 37, 32)        0         \n",
      "_________________________________________________________________\n",
      "conv2d_5 (Conv2D)            (None, 37, 37, 32)        9248      \n",
      "_________________________________________________________________\n",
      "max_pooling2d_5 (MaxPooling2 (None, 18, 18, 32)        0         \n",
      "_________________________________________________________________\n",
      "flatten_1 (Flatten)          (None, 10368)             0         \n",
      "_________________________________________________________________\n",
      "dense_3 (Dense)              (None, 128)               1327232   \n",
      "_________________________________________________________________\n",
      "dropout_2 (Dropout)          (None, 128)               0         \n",
      "_________________________________________________________________\n",
      "dense_4 (Dense)              (None, 128)               16512     \n",
      "_________________________________________________________________\n",
      "dropout_3 (Dropout)          (None, 128)               0         \n",
      "_________________________________________________________________\n",
      "dense_5 (Dense)              (None, 1)                 129       \n",
      "=================================================================\n",
      "Total params: 1,358,401\n",
      "Trainable params: 1,358,305\n",
      "Non-trainable params: 96\n",
      "_________________________________________________________________\n"
     ]
    }
   ],
   "source": [
    "model.summary()"
   ]
  },
  {
   "cell_type": "code",
   "execution_count": 43,
   "metadata": {
    "colab": {
     "base_uri": "https://localhost:8080/"
    },
    "id": "K7l-9An0IsWi",
    "outputId": "06ff660e-2303-48a3-b0b8-accd2d74b030"
   },
   "outputs": [
    {
     "name": "stdout",
     "output_type": "stream",
     "text": [
      "WARNING:tensorflow:No training configuration found in the save file, so the model was *not* compiled. Compile it manually.\n"
     ]
    }
   ],
   "source": [
    "# FOR REAL TIME DETECTION\n",
    "mymodel=load_model('hyper_model2.h5')\n",
    "cap=cv2.VideoCapture(0)\n",
    "face_cascade=cv2.CascadeClassifier('/content/drive/MyDrive/haarcascade_frontalface_default.xml')\n",
    "while cap.isOpened():\n",
    "    _,img=cap.read()\n",
    "    face=face_cascade.detectMultiScale(img,scaleFactor=1.1,minNeighbors=4)\n",
    "    for(x,y,w,h) in face:\n",
    "        face_img = img[y:y+h, x:x+w]\n",
    "        cv2.imwrite('temp.jpg',face_img)\n",
    "        test_image=image.load_img('temp.jpg',target_size=(150,150,3))\n",
    "        test_image=image.img_to_array(test_image)\n",
    "        test_image=np.expand_dims(test_image,axis=0)\n",
    "        pred=mymodel.predict_classes(test_image)[0][0]\n",
    "        if pred==1:\n",
    "            cv2.rectangle(img,(x,y),(x+w,y+h),(0,0,255),3)\n",
    "            cv2.putText(img,'NO MASK',((x+w)//2,y+h+20),cv2.FONT_HERSHEY_SIMPLEX,1,(0,0,255),3)\n",
    "        else:\n",
    "            cv2.rectangle(img,(x,y),(x+w,y+h),(0,255,0),3)\n",
    "            cv2.putText(img,'MASK',((x+w)//2,y+h+20),cv2.FONT_HERSHEY_SIMPLEX,1,(0,255,0),3)\n",
    "        datet=str(datetime.datetime.now())\n",
    "        cv2.putText(img,datet,(400,450),cv2.FONT_HERSHEY_SIMPLEX,0.5,(255,255,255),1)\n",
    "          \n",
    "    cv2.imshow('img',img)\n",
    "    \n",
    "    if cv2.waitKey(1)==ord('q'):\n",
    "        break\n",
    "    \n",
    "cap.release()\n",
    "cv2.destroyAllWindows()\n"
   ]
  }
 ],
 "metadata": {
  "colab": {
   "collapsed_sections": [],
   "name": "OPENCV_FACEMASK.ipynb",
   "provenance": []
  },
  "kernelspec": {
   "display_name": "Python 3",
   "language": "python",
   "name": "python3"
  },
  "language_info": {
   "codemirror_mode": {
    "name": "ipython",
    "version": 3
   },
   "file_extension": ".py",
   "mimetype": "text/x-python",
   "name": "python",
   "nbconvert_exporter": "python",
   "pygments_lexer": "ipython3",
   "version": "3.8.5"
  }
 },
 "nbformat": 4,
 "nbformat_minor": 1
}
